{
 "cells": [
  {
   "cell_type": "code",
   "execution_count": null,
   "id": "7890b829",
   "metadata": {},
   "outputs": [],
   "source": [
    "import os\n",
    "from tqdm import tqdm"
   ]
  },
  {
   "cell_type": "code",
   "execution_count": null,
   "id": "e6897e04",
   "metadata": {},
   "outputs": [],
   "source": [
    "obj_ids = [\".\".join(f.split(\".\")[:-1]) for f in os.listdir(\"/data\")] #папка с модельками"
   ]
  },
  {
   "cell_type": "code",
   "execution_count": null,
   "id": "af3ab878",
   "metadata": {},
   "outputs": [],
   "source": [
    "path = \"/data/%s.glb\" \n",
    "out = \"/data_images\"\n",
    "os.mkdir(out)\n",
    "for obj in obj_ids:\n",
    "    source = path % obj\n",
    "    !python obj_render.py --object_path {source} --output_dir {out}"
   ]
  }
 ],
 "metadata": {
  "kernelspec": {
   "display_name": "Python 3 (ipykernel)",
   "language": "python",
   "name": "python3"
  },
  "language_info": {
   "codemirror_mode": {
    "name": "ipython",
    "version": 3
   },
   "file_extension": ".py",
   "mimetype": "text/x-python",
   "name": "python",
   "nbconvert_exporter": "python",
   "pygments_lexer": "ipython3",
   "version": "3.10.9"
  }
 },
 "nbformat": 4,
 "nbformat_minor": 5
}
